{
 "cells": [
  {
   "cell_type": "markdown",
   "id": "c92c65d6",
   "metadata": {},
   "source": [
    "# Find a perfect action space\n",
    "\n",
    "In real driving, large steering angle like 30 degree is not frequent. Instead, it is wiser to use steer a small angle to adjust the direction.\n",
    "\n",
    "The a driver will slow down before turning left or right and speed up when going straight forward.\n",
    "\n",
    "Set the speed values and angles into golden sections."
   ]
  },
  {
   "cell_type": "code",
   "execution_count": 2,
   "id": "5960f92e",
   "metadata": {},
   "outputs": [
    {
     "name": "stdout",
     "output_type": "stream",
     "text": [
      "[0, 4.37772, 11.46, 30.0]\n",
      "[[4.0, 2.472], [3.5622279999999997, 2.2014569039999996], [2.854, 1.7637720000000001], [1.0, 0.618]]\n"
     ]
    }
   ],
   "source": [
    "NUMBER_OF_SPEED_VALUES = 2\n",
    "NUMBER_OF_ANGLES = 4\n",
    "MAX_ANGLE = 30.0\n",
    "MAX_SPEED = 4.0\n",
    "BASE_SPEED = 1.0\n",
    "GODEN_RATIO = 0.618\n",
    "\n",
    "angles = [MAX_ANGLE * pow((1 - GODEN_RATIO), i) for i in range(0, NUMBER_OF_ANGLES-1)]\n",
    "\n",
    "angles.append(0)\n",
    "\n",
    "angles = angles[::-1]\n",
    "\n",
    "print(angles)\n",
    "\n",
    "speed_values = [(MAX_SPEED - BASE_SPEED) * (MAX_ANGLE - each_angle)/MAX_ANGLE + BASE_SPEED for each_angle in angles]\n",
    "\n",
    "speed_values = [[each_speed * pow(GODEN_RATIO, i) for i in range(0, NUMBER_OF_SPEED_VALUES)] for each_speed in speed_values]\n",
    "\n",
    "print(speed_values)"
   ]
  },
  {
   "cell_type": "code",
   "execution_count": null,
   "id": "c21a1725",
   "metadata": {},
   "outputs": [],
   "source": []
  }
 ],
 "metadata": {
  "kernelspec": {
   "display_name": "Python 3 (ipykernel)",
   "language": "python",
   "name": "python3"
  },
  "language_info": {
   "codemirror_mode": {
    "name": "ipython",
    "version": 3
   },
   "file_extension": ".py",
   "mimetype": "text/x-python",
   "name": "python",
   "nbconvert_exporter": "python",
   "pygments_lexer": "ipython3",
   "version": "3.11.7"
  }
 },
 "nbformat": 4,
 "nbformat_minor": 5
}
